{
 "cells": [
  {
   "cell_type": "code",
   "execution_count": 3,
   "id": "5881f0c5",
   "metadata": {},
   "outputs": [],
   "source": [
    "# /////////////// LEGO Project /////////////\n",
    "\n",
    "import pandas as pd\n",
    "\n",
    "# READING THE FILE:\n",
    "# First, we import pandas and then we can call read_csv():\n",
    "\n",
    "df = pd.read_csv('D:\\\\Desktop\\\\Study\\\\100 Days of Code - The Complete Python Pro Bootcamp for 2021\\\\DATA\\\\Lego\\\\data\\\\sets.csv')\n",
    "\n"
   ]
  },
  {
   "cell_type": "code",
   "execution_count": 2,
   "id": "b063ca64",
   "metadata": {},
   "outputs": [
    {
     "data": {
      "text/html": [
       "<div>\n",
       "<style scoped>\n",
       "    .dataframe tbody tr th:only-of-type {\n",
       "        vertical-align: middle;\n",
       "    }\n",
       "\n",
       "    .dataframe tbody tr th {\n",
       "        vertical-align: top;\n",
       "    }\n",
       "\n",
       "    .dataframe thead th {\n",
       "        text-align: right;\n",
       "    }\n",
       "</style>\n",
       "<table border=\"1\" class=\"dataframe\">\n",
       "  <thead>\n",
       "    <tr style=\"text-align: right;\">\n",
       "      <th></th>\n",
       "      <th>set_num</th>\n",
       "      <th>name</th>\n",
       "      <th>year</th>\n",
       "      <th>theme_id</th>\n",
       "      <th>num_parts</th>\n",
       "    </tr>\n",
       "  </thead>\n",
       "  <tbody>\n",
       "    <tr>\n",
       "      <th>0</th>\n",
       "      <td>001-1</td>\n",
       "      <td>Gears</td>\n",
       "      <td>1965</td>\n",
       "      <td>1</td>\n",
       "      <td>43</td>\n",
       "    </tr>\n",
       "    <tr>\n",
       "      <th>1</th>\n",
       "      <td>0011-2</td>\n",
       "      <td>Town Mini-Figures</td>\n",
       "      <td>1978</td>\n",
       "      <td>84</td>\n",
       "      <td>12</td>\n",
       "    </tr>\n",
       "    <tr>\n",
       "      <th>2</th>\n",
       "      <td>0011-3</td>\n",
       "      <td>Castle 2 for 1 Bonus Offer</td>\n",
       "      <td>1987</td>\n",
       "      <td>199</td>\n",
       "      <td>0</td>\n",
       "    </tr>\n",
       "    <tr>\n",
       "      <th>3</th>\n",
       "      <td>0012-1</td>\n",
       "      <td>Space Mini-Figures</td>\n",
       "      <td>1979</td>\n",
       "      <td>143</td>\n",
       "      <td>12</td>\n",
       "    </tr>\n",
       "    <tr>\n",
       "      <th>4</th>\n",
       "      <td>0013-1</td>\n",
       "      <td>Space Mini-Figures</td>\n",
       "      <td>1979</td>\n",
       "      <td>143</td>\n",
       "      <td>12</td>\n",
       "    </tr>\n",
       "  </tbody>\n",
       "</table>\n",
       "</div>"
      ],
      "text/plain": [
       "  set_num                        name  year  theme_id  num_parts\n",
       "0   001-1                       Gears  1965         1         43\n",
       "1  0011-2           Town Mini-Figures  1978        84         12\n",
       "2  0011-3  Castle 2 for 1 Bonus Offer  1987       199          0\n",
       "3  0012-1          Space Mini-Figures  1979       143         12\n",
       "4  0013-1          Space Mini-Figures  1979       143         12"
      ]
     },
     "execution_count": 2,
     "metadata": {},
     "output_type": "execute_result"
    }
   ],
   "source": [
    "df.head()"
   ]
  },
  {
   "cell_type": "markdown",
   "id": "217c976b",
   "metadata": {},
   "source": [
    "this is a markdown cell"
   ]
  },
  {
   "cell_type": "markdown",
   "id": "2b9769b0",
   "metadata": {},
   "source": [
    "The info about cells type is here:\n",
    "https://www.earthdatascience.org/courses/intro-to-earth-data-science/open-reproducible-science/jupyter-python/code-markdown-cells-in-jupyter-notebook/"
   ]
  },
  {
   "cell_type": "markdown",
   "id": "870fe071",
   "metadata": {},
   "source": [
    "### This is a subtitle in Markdown\n",
    "\n",
    "#### This is a smaller subtitle\n",
    "\n",
    "##### This is an even smaller subtitle"
   ]
  },
  {
   "cell_type": "markdown",
   "id": "ad3bbb41",
   "metadata": {},
   "source": [
    "<img src=\"assets/bricks.jpg\">"
   ]
  },
  {
   "cell_type": "code",
   "execution_count": 4,
   "id": "19a72176",
   "metadata": {},
   "outputs": [],
   "source": [
    "# To insert the image in MarkDown cell we can use:\n",
    "# <img src=\"assets/bricks.jpg\">"
   ]
  },
  {
   "cell_type": "code",
   "execution_count": 7,
   "id": "6a0bae42",
   "metadata": {},
   "outputs": [],
   "source": [
    "# HEADINGS:\n",
    "# You can add section headings using tags like <h1> or <h2>. \n",
    "# However, the Notebook also has its own shorthand for common HTML tags. \n",
    "# For example, you can use the # symbol as a shortcut. \n",
    "# Here's how the headings change their size up to a minimum of <h5>."
   ]
  },
  {
   "cell_type": "markdown",
   "id": "d6cf585a",
   "metadata": {},
   "source": [
    "<h1>Section Heading </h1>\n",
    "<h2>Section Heading </h2>\n",
    "<h3>Section Heading </h3>\n",
    "<h4>Section Heading </h4>\n",
    "<h5>Section Heading </h5>\n"
   ]
  },
  {
   "cell_type": "markdown",
   "id": "b7f1efce",
   "metadata": {},
   "source": [
    "# Section Heading \n",
    "## Section Heading \n",
    "### Section Heading \n",
    "#### Section Heading \n",
    "###### Section Heading "
   ]
  },
  {
   "cell_type": "code",
   "execution_count": 9,
   "id": "f025d7ab",
   "metadata": {},
   "outputs": [
    {
     "data": {
      "text/html": [
       "<div>\n",
       "<style scoped>\n",
       "    .dataframe tbody tr th:only-of-type {\n",
       "        vertical-align: middle;\n",
       "    }\n",
       "\n",
       "    .dataframe tbody tr th {\n",
       "        vertical-align: top;\n",
       "    }\n",
       "\n",
       "    .dataframe thead th {\n",
       "        text-align: right;\n",
       "    }\n",
       "</style>\n",
       "<table border=\"1\" class=\"dataframe\">\n",
       "  <thead>\n",
       "    <tr style=\"text-align: right;\">\n",
       "      <th></th>\n",
       "      <th>id</th>\n",
       "      <th>name</th>\n",
       "      <th>rgb</th>\n",
       "      <th>is_trans</th>\n",
       "    </tr>\n",
       "  </thead>\n",
       "  <tbody>\n",
       "    <tr>\n",
       "      <th>0</th>\n",
       "      <td>-1</td>\n",
       "      <td>Unknown</td>\n",
       "      <td>0033B2</td>\n",
       "      <td>f</td>\n",
       "    </tr>\n",
       "    <tr>\n",
       "      <th>1</th>\n",
       "      <td>0</td>\n",
       "      <td>Black</td>\n",
       "      <td>05131D</td>\n",
       "      <td>f</td>\n",
       "    </tr>\n",
       "    <tr>\n",
       "      <th>2</th>\n",
       "      <td>1</td>\n",
       "      <td>Blue</td>\n",
       "      <td>0055BF</td>\n",
       "      <td>f</td>\n",
       "    </tr>\n",
       "    <tr>\n",
       "      <th>3</th>\n",
       "      <td>2</td>\n",
       "      <td>Green</td>\n",
       "      <td>237841</td>\n",
       "      <td>f</td>\n",
       "    </tr>\n",
       "    <tr>\n",
       "      <th>4</th>\n",
       "      <td>3</td>\n",
       "      <td>Dark Turquoise</td>\n",
       "      <td>008F9B</td>\n",
       "      <td>f</td>\n",
       "    </tr>\n",
       "  </tbody>\n",
       "</table>\n",
       "</div>"
      ],
      "text/plain": [
       "   id            name     rgb is_trans\n",
       "0  -1         Unknown  0033B2        f\n",
       "1   0           Black  05131D        f\n",
       "2   1            Blue  0055BF        f\n",
       "3   2           Green  237841        f\n",
       "4   3  Dark Turquoise  008F9B        f"
      ]
     },
     "execution_count": 9,
     "metadata": {},
     "output_type": "execute_result"
    }
   ],
   "source": [
    "# Reading the colors csv file:\n",
    "df_colors = pd.read_csv('D:\\\\Desktop\\\\Study\\\\100 Days of Code - The Complete Python Pro Bootcamp for 2021\\\\DATA\\\\Lego\\\\data\\\\colors.csv')\n",
    "df_colors.head()"
   ]
  },
  {
   "cell_type": "code",
   "execution_count": 10,
   "id": "0404a362",
   "metadata": {},
   "outputs": [
    {
     "data": {
      "text/plain": [
       "id          135\n",
       "name        135\n",
       "rgb         124\n",
       "is_trans      2\n",
       "dtype: int64"
      ]
     },
     "execution_count": 10,
     "metadata": {},
     "output_type": "execute_result"
    }
   ],
   "source": [
    "# FIND THE QUANTITY OF COLORS NAMES:\n",
    "We can use the .nunique() from Pandas method:\n",
    "# Example:\n",
    "# df = pd.DataFrame({'A': [4, 5, 6], 'B': [4, 1, 1]})\n",
    "# df.nunique()\n",
    "# A    3\n",
    "# B    2\n",
    "# dtype: int64\n",
    "\n",
    "df_colors.nunique()"
   ]
  },
  {
   "cell_type": "code",
   "execution_count": 12,
   "id": "0a8be77f",
   "metadata": {},
   "outputs": [
    {
     "data": {
      "text/plain": [
       "(135, 4)"
      ]
     },
     "execution_count": 12,
     "metadata": {},
     "output_type": "execute_result"
    }
   ],
   "source": [
    "# How many columns?\n",
    "df_colors.shape"
   ]
  },
  {
   "cell_type": "code",
   "execution_count": 13,
   "id": "e4ffef77",
   "metadata": {},
   "outputs": [
    {
     "data": {
      "text/plain": [
       "id          135\n",
       "name        135\n",
       "rgb         124\n",
       "is_trans      2\n",
       "dtype: int64"
      ]
     },
     "execution_count": 13,
     "metadata": {},
     "output_type": "execute_result"
    }
   ],
   "source": [
    "# We can see that there are 135 unique colours for LEGO blocks:\n",
    "df_colors.nunique()"
   ]
  },
  {
   "cell_type": "code",
   "execution_count": 15,
   "id": "2897ca9e",
   "metadata": {},
   "outputs": [
    {
     "data": {
      "text/html": [
       "<div>\n",
       "<style scoped>\n",
       "    .dataframe tbody tr th:only-of-type {\n",
       "        vertical-align: middle;\n",
       "    }\n",
       "\n",
       "    .dataframe tbody tr th {\n",
       "        vertical-align: top;\n",
       "    }\n",
       "\n",
       "    .dataframe thead th {\n",
       "        text-align: right;\n",
       "    }\n",
       "</style>\n",
       "<table border=\"1\" class=\"dataframe\">\n",
       "  <thead>\n",
       "    <tr style=\"text-align: right;\">\n",
       "      <th></th>\n",
       "      <th>id</th>\n",
       "      <th>name</th>\n",
       "      <th>rgb</th>\n",
       "    </tr>\n",
       "    <tr>\n",
       "      <th>is_trans</th>\n",
       "      <th></th>\n",
       "      <th></th>\n",
       "      <th></th>\n",
       "    </tr>\n",
       "  </thead>\n",
       "  <tbody>\n",
       "    <tr>\n",
       "      <th>f</th>\n",
       "      <td>107</td>\n",
       "      <td>107</td>\n",
       "      <td>107</td>\n",
       "    </tr>\n",
       "    <tr>\n",
       "      <th>t</th>\n",
       "      <td>28</td>\n",
       "      <td>28</td>\n",
       "      <td>28</td>\n",
       "    </tr>\n",
       "  </tbody>\n",
       "</table>\n",
       "</div>"
      ],
      "text/plain": [
       "           id  name  rgb\n",
       "is_trans                \n",
       "f         107   107  107\n",
       "t          28    28   28"
      ]
     },
     "execution_count": 15,
     "metadata": {},
     "output_type": "execute_result"
    }
   ],
   "source": [
    "# FIND THE NUMBER OF TRNSPARENT COLOR:\n",
    "# One way you can do this is through combining our old friend, the .groupby() method, \n",
    "# with the .count() method.\n",
    "df_colors.groupby('is_trans').count()"
   ]
  },
  {
   "cell_type": "code",
   "execution_count": 4,
   "id": "58099844",
   "metadata": {},
   "outputs": [
    {
     "data": {
      "text/plain": [
       "f    107\n",
       "t     28\n",
       "Name: is_trans, dtype: int64"
      ]
     },
     "execution_count": 4,
     "metadata": {},
     "output_type": "execute_result"
    }
   ],
   "source": [
    "# But you might have also come across the very handy .value_counts() method in your research.\n",
    "# Reading the colors csv file:\n",
    "import pandas as pd\n",
    "df_colors = pd.read_csv('D:\\\\Desktop\\\\Study\\\\100 Days of Code - The Complete Python Pro Bootcamp for 2021\\\\DATA\\\\Lego\\\\data\\\\colors.csv')\n",
    "\n",
    "\n",
    "df_colors.is_trans.value_counts()"
   ]
  },
  {
   "cell_type": "code",
   "execution_count": 7,
   "id": "af4374b2",
   "metadata": {},
   "outputs": [
    {
     "data": {
      "text/plain": [
       "Light Green               1\n",
       "Lavender                  1\n",
       "Blue-Violet               1\n",
       "Light Purple              1\n",
       "Chrome Black              1\n",
       "                         ..\n",
       "Milky White               1\n",
       "Trans Light Royal Blue    1\n",
       "Olive Green               1\n",
       "Dark Bluish Gray          1\n",
       "Dark Tan                  1\n",
       "Name: name, Length: 135, dtype: int64"
      ]
     },
     "execution_count": 7,
     "metadata": {},
     "output_type": "execute_result"
    }
   ],
   "source": [
    "# Once again, we select the column (here with the .dot notation) and call the method. \n",
    "# The .value_counts() method is a very quick way of finding the number of members of each category.\n",
    "\n",
    "df_colors.name.value_counts()"
   ]
  },
  {
   "cell_type": "markdown",
   "id": "793dfe51",
   "metadata": {},
   "source": [
    "<h1>Understanding LEGO Themes vs. LEGO Sets </h1>\n",
    "\n",
    "<h4>Walk into a LEGO store and you will see their products organised by theme. Their themes include Star Wars, Batman, Harry Potter and many more. </h4>\n",
    "<img src=\"assets/lego_themes.png\">\n",
    "<h4>A LEGO set is a particular box of LEGO or product. Therefore, a single theme typically has have many different sets.</h4>\n",
    "<img src=\"assets/lego_sets.png\">"
   ]
  },
  {
   "cell_type": "code",
   "execution_count": 1,
   "id": "fe46e8b6",
   "metadata": {},
   "outputs": [
    {
     "data": {
      "text/html": [
       "<div>\n",
       "<style scoped>\n",
       "    .dataframe tbody tr th:only-of-type {\n",
       "        vertical-align: middle;\n",
       "    }\n",
       "\n",
       "    .dataframe tbody tr th {\n",
       "        vertical-align: top;\n",
       "    }\n",
       "\n",
       "    .dataframe thead th {\n",
       "        text-align: right;\n",
       "    }\n",
       "</style>\n",
       "<table border=\"1\" class=\"dataframe\">\n",
       "  <thead>\n",
       "    <tr style=\"text-align: right;\">\n",
       "      <th></th>\n",
       "      <th>set_num</th>\n",
       "      <th>name</th>\n",
       "      <th>year</th>\n",
       "      <th>theme_id</th>\n",
       "      <th>num_parts</th>\n",
       "    </tr>\n",
       "  </thead>\n",
       "  <tbody>\n",
       "    <tr>\n",
       "      <th>0</th>\n",
       "      <td>001-1</td>\n",
       "      <td>Gears</td>\n",
       "      <td>1965</td>\n",
       "      <td>1</td>\n",
       "      <td>43</td>\n",
       "    </tr>\n",
       "    <tr>\n",
       "      <th>1</th>\n",
       "      <td>0011-2</td>\n",
       "      <td>Town Mini-Figures</td>\n",
       "      <td>1978</td>\n",
       "      <td>84</td>\n",
       "      <td>12</td>\n",
       "    </tr>\n",
       "    <tr>\n",
       "      <th>2</th>\n",
       "      <td>0011-3</td>\n",
       "      <td>Castle 2 for 1 Bonus Offer</td>\n",
       "      <td>1987</td>\n",
       "      <td>199</td>\n",
       "      <td>0</td>\n",
       "    </tr>\n",
       "    <tr>\n",
       "      <th>3</th>\n",
       "      <td>0012-1</td>\n",
       "      <td>Space Mini-Figures</td>\n",
       "      <td>1979</td>\n",
       "      <td>143</td>\n",
       "      <td>12</td>\n",
       "    </tr>\n",
       "    <tr>\n",
       "      <th>4</th>\n",
       "      <td>0013-1</td>\n",
       "      <td>Space Mini-Figures</td>\n",
       "      <td>1979</td>\n",
       "      <td>143</td>\n",
       "      <td>12</td>\n",
       "    </tr>\n",
       "  </tbody>\n",
       "</table>\n",
       "</div>"
      ],
      "text/plain": [
       "  set_num                        name  year  theme_id  num_parts\n",
       "0   001-1                       Gears  1965         1         43\n",
       "1  0011-2           Town Mini-Figures  1978        84         12\n",
       "2  0011-3  Castle 2 for 1 Bonus Offer  1987       199          0\n",
       "3  0012-1          Space Mini-Figures  1979       143         12\n",
       "4  0013-1          Space Mini-Figures  1979       143         12"
      ]
     },
     "execution_count": 1,
     "metadata": {},
     "output_type": "execute_result"
    }
   ],
   "source": [
    "# Reading the sets csv file:\n",
    "\n",
    "import pandas as pd\n",
    "df_sets = pd.read_csv('D:\\\\Desktop\\\\Study\\\\100 Days of Code - The Complete Python Pro Bootcamp for 2021\\\\DATA\\\\Lego\\\\data\\\\sets.csv')\n",
    "\n",
    "\n",
    "df_sets.head()"
   ]
  },
  {
   "cell_type": "code",
   "execution_count": 10,
   "id": "366a546e",
   "metadata": {},
   "outputs": [
    {
     "data": {
      "text/plain": [
       "pandas.core.series.Series"
      ]
     },
     "execution_count": 10,
     "metadata": {},
     "output_type": "execute_result"
    }
   ],
   "source": [
    "type(df_sets[\"year\"])"
   ]
  },
  {
   "cell_type": "code",
   "execution_count": 11,
   "id": "6be2ee7c",
   "metadata": {},
   "outputs": [
    {
     "data": {
      "text/plain": [
       "1949"
      ]
     },
     "execution_count": 11,
     "metadata": {},
     "output_type": "execute_result"
    }
   ],
   "source": [
    "# In which year were the first LEGO sets released and what were these sets called?\n",
    "df_sets[\"year\"].min()"
   ]
  },
  {
   "cell_type": "code",
   "execution_count": 13,
   "id": "92eb3a13",
   "metadata": {},
   "outputs": [
    {
     "data": {
      "text/plain": [
       "9521"
      ]
     },
     "execution_count": 13,
     "metadata": {},
     "output_type": "execute_result"
    }
   ],
   "source": [
    "# Find the index of the line of sets which was released in 1949:\n",
    "df_sets[\"year\"].idxmin()"
   ]
  },
  {
   "cell_type": "code",
   "execution_count": 14,
   "id": "92af831d",
   "metadata": {},
   "outputs": [
    {
     "data": {
      "text/plain": [
       "'Extra-Large Gift Set (ABB)'"
      ]
     },
     "execution_count": 14,
     "metadata": {},
     "output_type": "execute_result"
    }
   ],
   "source": [
    "# Using the index we can check what is the set name under this index:\n",
    "df_sets[\"name\"].loc[9521]"
   ]
  },
  {
   "cell_type": "code",
   "execution_count": 15,
   "id": "1c8b5c35",
   "metadata": {},
   "outputs": [
    {
     "data": {
      "text/plain": [
       "set_num                         700.1-1\n",
       "name         Extra-Large Gift Set (ABB)\n",
       "year                               1949\n",
       "theme_id                            365\n",
       "num_parts                           142\n",
       "Name: 9521, dtype: object"
      ]
     },
     "execution_count": 15,
     "metadata": {},
     "output_type": "execute_result"
    }
   ],
   "source": [
    "# How many different products did the LEGO company sell in their first year of operation?\n",
    "df_sets.loc[9521]"
   ]
  },
  {
   "cell_type": "code",
   "execution_count": 5,
   "id": "21140106",
   "metadata": {},
   "outputs": [
    {
     "data": {
      "text/plain": [
       "9987"
      ]
     },
     "execution_count": 5,
     "metadata": {},
     "output_type": "execute_result"
    }
   ],
   "source": [
    "# What is the set with the biggest number of sets?\n",
    "df_sets[\"num_parts\"].max()\n",
    " "
   ]
  },
  {
   "cell_type": "code",
   "execution_count": 6,
   "id": "5d32d4f0",
   "metadata": {},
   "outputs": [
    {
     "data": {
      "text/plain": [
       "15004"
      ]
     },
     "execution_count": 6,
     "metadata": {},
     "output_type": "execute_result"
    }
   ],
   "source": [
    "# Find the index of this line:\n",
    "df_sets[\"num_parts\"].idxmax()"
   ]
  },
  {
   "cell_type": "code",
   "execution_count": 10,
   "id": "1d14fb52",
   "metadata": {},
   "outputs": [
    {
     "data": {
      "text/plain": [
       "set_num                           BIGBOX-1\n",
       "name         The Ultimate Battle for Chima\n",
       "year                                  2015\n",
       "theme_id                               571\n",
       "num_parts                             9987\n",
       "Name: 15004, dtype: object"
      ]
     },
     "execution_count": 10,
     "metadata": {},
     "output_type": "execute_result"
    }
   ],
   "source": [
    "# /Using index we can get the whole info about the line of the set with the biggest number of sets:\n",
    "df_sets.loc[15004]"
   ]
  },
  {
   "cell_type": "code",
   "execution_count": 12,
   "id": "220a9f41",
   "metadata": {},
   "outputs": [
    {
     "data": {
      "text/html": [
       "<div>\n",
       "<style scoped>\n",
       "    .dataframe tbody tr th:only-of-type {\n",
       "        vertical-align: middle;\n",
       "    }\n",
       "\n",
       "    .dataframe tbody tr th {\n",
       "        vertical-align: top;\n",
       "    }\n",
       "\n",
       "    .dataframe thead th {\n",
       "        text-align: right;\n",
       "    }\n",
       "</style>\n",
       "<table border=\"1\" class=\"dataframe\">\n",
       "  <thead>\n",
       "    <tr style=\"text-align: right;\">\n",
       "      <th></th>\n",
       "      <th>set_num</th>\n",
       "      <th>name</th>\n",
       "      <th>year</th>\n",
       "      <th>theme_id</th>\n",
       "      <th>num_parts</th>\n",
       "    </tr>\n",
       "  </thead>\n",
       "  <tbody>\n",
       "    <tr>\n",
       "      <th>8878</th>\n",
       "      <td>65573-1</td>\n",
       "      <td>Rumble Racers</td>\n",
       "      <td>2005</td>\n",
       "      <td>116</td>\n",
       "      <td>0</td>\n",
       "    </tr>\n",
       "    <tr>\n",
       "      <th>6599</th>\n",
       "      <td>5004264-1</td>\n",
       "      <td>1x2 Brick Key Light (Red)</td>\n",
       "      <td>2014</td>\n",
       "      <td>503</td>\n",
       "      <td>0</td>\n",
       "    </tr>\n",
       "    <tr>\n",
       "      <th>6600</th>\n",
       "      <td>5004266-1</td>\n",
       "      <td>LEGO Mini Box (Yellow)</td>\n",
       "      <td>2014</td>\n",
       "      <td>501</td>\n",
       "      <td>0</td>\n",
       "    </tr>\n",
       "    <tr>\n",
       "      <th>6601</th>\n",
       "      <td>5004267-1</td>\n",
       "      <td>Single Stud Red Storage Brick</td>\n",
       "      <td>2014</td>\n",
       "      <td>501</td>\n",
       "      <td>0</td>\n",
       "    </tr>\n",
       "    <tr>\n",
       "      <th>6602</th>\n",
       "      <td>5004268-1</td>\n",
       "      <td>Single Stud Blue Storage Brick</td>\n",
       "      <td>2014</td>\n",
       "      <td>501</td>\n",
       "      <td>0</td>\n",
       "    </tr>\n",
       "    <tr>\n",
       "      <th>...</th>\n",
       "      <td>...</td>\n",
       "      <td>...</td>\n",
       "      <td>...</td>\n",
       "      <td>...</td>\n",
       "      <td>...</td>\n",
       "    </tr>\n",
       "    <tr>\n",
       "      <th>221</th>\n",
       "      <td>10189-1</td>\n",
       "      <td>Taj Mahal</td>\n",
       "      <td>2008</td>\n",
       "      <td>673</td>\n",
       "      <td>5922</td>\n",
       "    </tr>\n",
       "    <tr>\n",
       "      <th>295</th>\n",
       "      <td>10256-1</td>\n",
       "      <td>Taj Mahal</td>\n",
       "      <td>2017</td>\n",
       "      <td>673</td>\n",
       "      <td>5923</td>\n",
       "    </tr>\n",
       "    <tr>\n",
       "      <th>10551</th>\n",
       "      <td>71043-1</td>\n",
       "      <td>Hogwarts Castle</td>\n",
       "      <td>2018</td>\n",
       "      <td>246</td>\n",
       "      <td>6020</td>\n",
       "    </tr>\n",
       "    <tr>\n",
       "      <th>11183</th>\n",
       "      <td>75192-1</td>\n",
       "      <td>UCS Millennium Falcon</td>\n",
       "      <td>2017</td>\n",
       "      <td>171</td>\n",
       "      <td>7541</td>\n",
       "    </tr>\n",
       "    <tr>\n",
       "      <th>15004</th>\n",
       "      <td>BIGBOX-1</td>\n",
       "      <td>The Ultimate Battle for Chima</td>\n",
       "      <td>2015</td>\n",
       "      <td>571</td>\n",
       "      <td>9987</td>\n",
       "    </tr>\n",
       "  </tbody>\n",
       "</table>\n",
       "<p>15710 rows × 5 columns</p>\n",
       "</div>"
      ],
      "text/plain": [
       "         set_num                            name  year  theme_id  num_parts\n",
       "8878     65573-1                   Rumble Racers  2005       116          0\n",
       "6599   5004264-1       1x2 Brick Key Light (Red)  2014       503          0\n",
       "6600   5004266-1          LEGO Mini Box (Yellow)  2014       501          0\n",
       "6601   5004267-1   Single Stud Red Storage Brick  2014       501          0\n",
       "6602   5004268-1  Single Stud Blue Storage Brick  2014       501          0\n",
       "...          ...                             ...   ...       ...        ...\n",
       "221      10189-1                       Taj Mahal  2008       673       5922\n",
       "295      10256-1                       Taj Mahal  2017       673       5923\n",
       "10551    71043-1                 Hogwarts Castle  2018       246       6020\n",
       "11183    75192-1           UCS Millennium Falcon  2017       171       7541\n",
       "15004   BIGBOX-1   The Ultimate Battle for Chima  2015       571       9987\n",
       "\n",
       "[15710 rows x 5 columns]"
      ]
     },
     "execution_count": 12,
     "metadata": {},
     "output_type": "execute_result"
    }
   ],
   "source": [
    "# What are the top 5 LEGO sets with the most number of parts?\n",
    "df_sets.sort_values(\"num_parts\")\n",
    "\n"
   ]
  },
  {
   "cell_type": "code",
   "execution_count": 13,
   "id": "f3ac13c1",
   "metadata": {},
   "outputs": [
    {
     "data": {
      "text/html": [
       "<div>\n",
       "<style scoped>\n",
       "    .dataframe tbody tr th:only-of-type {\n",
       "        vertical-align: middle;\n",
       "    }\n",
       "\n",
       "    .dataframe tbody tr th {\n",
       "        vertical-align: top;\n",
       "    }\n",
       "\n",
       "    .dataframe thead th {\n",
       "        text-align: right;\n",
       "    }\n",
       "</style>\n",
       "<table border=\"1\" class=\"dataframe\">\n",
       "  <thead>\n",
       "    <tr style=\"text-align: right;\">\n",
       "      <th></th>\n",
       "      <th>set_num</th>\n",
       "      <th>name</th>\n",
       "      <th>year</th>\n",
       "      <th>theme_id</th>\n",
       "      <th>num_parts</th>\n",
       "    </tr>\n",
       "  </thead>\n",
       "  <tbody>\n",
       "    <tr>\n",
       "      <th>15004</th>\n",
       "      <td>BIGBOX-1</td>\n",
       "      <td>The Ultimate Battle for Chima</td>\n",
       "      <td>2015</td>\n",
       "      <td>571</td>\n",
       "      <td>9987</td>\n",
       "    </tr>\n",
       "    <tr>\n",
       "      <th>11183</th>\n",
       "      <td>75192-1</td>\n",
       "      <td>UCS Millennium Falcon</td>\n",
       "      <td>2017</td>\n",
       "      <td>171</td>\n",
       "      <td>7541</td>\n",
       "    </tr>\n",
       "    <tr>\n",
       "      <th>10551</th>\n",
       "      <td>71043-1</td>\n",
       "      <td>Hogwarts Castle</td>\n",
       "      <td>2018</td>\n",
       "      <td>246</td>\n",
       "      <td>6020</td>\n",
       "    </tr>\n",
       "    <tr>\n",
       "      <th>295</th>\n",
       "      <td>10256-1</td>\n",
       "      <td>Taj Mahal</td>\n",
       "      <td>2017</td>\n",
       "      <td>673</td>\n",
       "      <td>5923</td>\n",
       "    </tr>\n",
       "    <tr>\n",
       "      <th>221</th>\n",
       "      <td>10189-1</td>\n",
       "      <td>Taj Mahal</td>\n",
       "      <td>2008</td>\n",
       "      <td>673</td>\n",
       "      <td>5922</td>\n",
       "    </tr>\n",
       "  </tbody>\n",
       "</table>\n",
       "</div>"
      ],
      "text/plain": [
       "        set_num                           name  year  theme_id  num_parts\n",
       "15004  BIGBOX-1  The Ultimate Battle for Chima  2015       571       9987\n",
       "11183   75192-1          UCS Millennium Falcon  2017       171       7541\n",
       "10551   71043-1                Hogwarts Castle  2018       246       6020\n",
       "295     10256-1                      Taj Mahal  2017       673       5923\n",
       "221     10189-1                      Taj Mahal  2008       673       5922"
      ]
     },
     "execution_count": 13,
     "metadata": {},
     "output_type": "execute_result"
    }
   ],
   "source": [
    "# If we want to find the largest number of parts, then we have to set the ascending argument to False\n",
    "# when we sort by the num_parts column.\n",
    "df_sets.sort_values(\"num_parts\", ascending=False).head()"
   ]
  },
  {
   "cell_type": "code",
   "execution_count": 14,
   "id": "90b50bad",
   "metadata": {},
   "outputs": [
    {
     "data": {
      "text/html": [
       "<div>\n",
       "<style scoped>\n",
       "    .dataframe tbody tr th:only-of-type {\n",
       "        vertical-align: middle;\n",
       "    }\n",
       "\n",
       "    .dataframe tbody tr th {\n",
       "        vertical-align: top;\n",
       "    }\n",
       "\n",
       "    .dataframe thead th {\n",
       "        text-align: right;\n",
       "    }\n",
       "</style>\n",
       "<table border=\"1\" class=\"dataframe\">\n",
       "  <thead>\n",
       "    <tr style=\"text-align: right;\">\n",
       "      <th></th>\n",
       "      <th>set_num</th>\n",
       "      <th>name</th>\n",
       "      <th>year</th>\n",
       "      <th>theme_id</th>\n",
       "      <th>num_parts</th>\n",
       "    </tr>\n",
       "  </thead>\n",
       "  <tbody>\n",
       "    <tr>\n",
       "      <th>0</th>\n",
       "      <td>001-1</td>\n",
       "      <td>Gears</td>\n",
       "      <td>1965</td>\n",
       "      <td>1</td>\n",
       "      <td>43</td>\n",
       "    </tr>\n",
       "    <tr>\n",
       "      <th>1</th>\n",
       "      <td>0011-2</td>\n",
       "      <td>Town Mini-Figures</td>\n",
       "      <td>1978</td>\n",
       "      <td>84</td>\n",
       "      <td>12</td>\n",
       "    </tr>\n",
       "    <tr>\n",
       "      <th>2</th>\n",
       "      <td>0011-3</td>\n",
       "      <td>Castle 2 for 1 Bonus Offer</td>\n",
       "      <td>1987</td>\n",
       "      <td>199</td>\n",
       "      <td>0</td>\n",
       "    </tr>\n",
       "    <tr>\n",
       "      <th>3</th>\n",
       "      <td>0012-1</td>\n",
       "      <td>Space Mini-Figures</td>\n",
       "      <td>1979</td>\n",
       "      <td>143</td>\n",
       "      <td>12</td>\n",
       "    </tr>\n",
       "    <tr>\n",
       "      <th>4</th>\n",
       "      <td>0013-1</td>\n",
       "      <td>Space Mini-Figures</td>\n",
       "      <td>1979</td>\n",
       "      <td>143</td>\n",
       "      <td>12</td>\n",
       "    </tr>\n",
       "  </tbody>\n",
       "</table>\n",
       "</div>"
      ],
      "text/plain": [
       "  set_num                        name  year  theme_id  num_parts\n",
       "0   001-1                       Gears  1965         1         43\n",
       "1  0011-2           Town Mini-Figures  1978        84         12\n",
       "2  0011-3  Castle 2 for 1 Bonus Offer  1987       199          0\n",
       "3  0012-1          Space Mini-Figures  1979       143         12\n",
       "4  0013-1          Space Mini-Figures  1979       143         12"
      ]
     },
     "execution_count": 14,
     "metadata": {},
     "output_type": "execute_result"
    }
   ],
   "source": [
    "# Visualise the Number of Sets Published over Time\n",
    "# Now let's take a look at how many sets the LEGO company has published year-on-year. \n",
    "# This might tell us something about how LEGO's product offering has changed over time.\n",
    "\n",
    "# First, let's import Matplotlib so we can visualise our findings up top:\n",
    "# Reading the sets csv file:\n",
    "\n",
    "import pandas as pd\n",
    "import matplotlib.pyplot as plt\n",
    "df_sets = pd.read_csv('D:\\\\Desktop\\\\Study\\\\100 Days of Code - The Complete Python Pro Bootcamp for 2021\\\\DATA\\\\Lego\\\\data\\\\sets.csv')\n",
    "\n",
    "\n",
    "df_sets.head()"
   ]
  },
  {
   "cell_type": "code",
   "execution_count": 15,
   "id": "ec9bdf82",
   "metadata": {},
   "outputs": [],
   "source": [
    "# Now, let's create a new Series called sets_by_year which has the years as the index and the number of sets as the value. \n",
    "\n",
    "sets_by_year = df_sets.groupby(\"year\").count()"
   ]
  },
  {
   "cell_type": "code",
   "execution_count": 17,
   "id": "4251424e",
   "metadata": {},
   "outputs": [
    {
     "data": {
      "text/plain": [
       "year\n",
       "1949     5\n",
       "1950     6\n",
       "1953     4\n",
       "1954    14\n",
       "1955    28\n",
       "Name: set_num, dtype: int64"
      ]
     },
     "execution_count": 17,
     "metadata": {},
     "output_type": "execute_result"
    }
   ],
   "source": [
    "# Lets check how many sets were released during each year:\n",
    "sets_by_year = df_sets.groupby(\"year\").count()\n",
    "sets_by_year[\"set_num\"].head()\n"
   ]
  },
  {
   "cell_type": "code",
   "execution_count": 18,
   "id": "49c1354b",
   "metadata": {},
   "outputs": [
    {
     "data": {
      "text/plain": [
       "year\n",
       "2017    786\n",
       "2018    816\n",
       "2019    840\n",
       "2020    674\n",
       "2021      3\n",
       "Name: set_num, dtype: int64"
      ]
     },
     "execution_count": 18,
     "metadata": {},
     "output_type": "execute_result"
    }
   ],
   "source": [
    "# Lets check how many sets were released during each year:\n",
    "sets_by_year = df_sets.groupby(\"year\").count()\n",
    "sets_by_year[\"set_num\"].tail()"
   ]
  },
  {
   "cell_type": "code",
   "execution_count": 16,
   "id": "88f96a2f",
   "metadata": {},
   "outputs": [],
   "source": [
    "# From this, we can see that LEGO published less than 10 different sets per year during its first few years of operation. \n",
    "# But by 2019 the company had grown spectacularly, releasing 840 sets in that year alone!\n",
    "\n",
    "# You also notice that there is an entry for 2021. The .csv file is from late 2020, \n",
    "# so it appears that it already includes some sets on a forward-looking basis\n"
   ]
  },
  {
   "cell_type": "code",
   "execution_count": 19,
   "id": "f67b303f",
   "metadata": {},
   "outputs": [
    {
     "data": {
      "text/plain": [
       "[<matplotlib.lines.Line2D at 0x12f605fb970>]"
      ]
     },
     "execution_count": 19,
     "metadata": {},
     "output_type": "execute_result"
    },
    {
     "data": {
      "image/png": "[encoded data removed]",
      "text/plain": [
       "<Figure size 432x288 with 1 Axes>"
      ]
     },
     "metadata": {
      "needs_background": "light"
     },
     "output_type": "display_data"
    }
   ],
   "source": [
    "# Lets see the chart with number of sets (sets_num) during different years:\n",
    "plt.plot(sets_by_year.index, sets_by_year.set_num)"
   ]
  },
  {
   "cell_type": "code",
   "execution_count": 21,
   "id": "5dcd56e4",
   "metadata": {},
   "outputs": [
    {
     "data": {
      "text/plain": [
       "[<matplotlib.lines.Line2D at 0x12f60072d30>]"
      ]
     },
     "execution_count": 21,
     "metadata": {},
     "output_type": "execute_result"
    },
    {
     "data": {
      "image/png": "[encoded data removed]",
      "text/plain": [
       "<Figure size 432x288 with 1 Axes>"
      ]
     },
     "metadata": {
      "needs_background": "light"
     },
     "output_type": "display_data"
    }
   ],
   "source": [
    "# WE EXCLUDE 2021 and 2020:\n",
    "# If we don't exclude the last two years we get a dramatic drop at the end of the chart. \n",
    "# This is quite misleading as it suggests LEGO is in big trouble! \n",
    "# Given the dataset does not include a full calendar year for 2020, it's best to exclude the \n",
    "# last two rows to get a better picture:\n",
    "\n",
    "plt.plot(sets_by_year.index[:-2], sets_by_year.set_num[:-2])"
   ]
  },
  {
   "cell_type": "code",
   "execution_count": 19,
   "id": "1a32f0d0",
   "metadata": {},
   "outputs": [],
   "source": [
    "# We also see that while the first 45 years or so, LEGO had some steady growth in its product offering, \n",
    "# but it was really in the mid-1990s that the number of sets produced by the company increased dramatically! \n",
    "# We also see a brief decline in the early 2000s and a strong recovery around 2005 in the chart."
   ]
  },
  {
   "cell_type": "markdown",
   "id": "9e7ed4f9",
   "metadata": {},
   "source": [
    "<h1>How to use the Pandas .agg() function</h1>"
   ]
  },
  {
   "cell_type": "code",
   "execution_count": 20,
   "id": "6c80a81d",
   "metadata": {},
   "outputs": [],
   "source": [
    "# Often you find yourself needing to summarise data. This is where the .groupby() function comes in really handy. \n",
    "# However, sometimes you want to run even more operations based on a particular DataFrame column. \n",
    "# This is where the .agg() method comes in."
   ]
  },
  {
   "cell_type": "code",
   "execution_count": 9,
   "id": "95b84dd3",
   "metadata": {},
   "outputs": [
    {
     "data": {
      "text/html": [
       "<div>\n",
       "<style scoped>\n",
       "    .dataframe tbody tr th:only-of-type {\n",
       "        vertical-align: middle;\n",
       "    }\n",
       "\n",
       "    .dataframe tbody tr th {\n",
       "        vertical-align: top;\n",
       "    }\n",
       "\n",
       "    .dataframe thead th {\n",
       "        text-align: right;\n",
       "    }\n",
       "</style>\n",
       "<table border=\"1\" class=\"dataframe\">\n",
       "  <thead>\n",
       "    <tr style=\"text-align: right;\">\n",
       "      <th></th>\n",
       "      <th>theme_id</th>\n",
       "    </tr>\n",
       "    <tr>\n",
       "      <th>year</th>\n",
       "      <th></th>\n",
       "    </tr>\n",
       "  </thead>\n",
       "  <tbody>\n",
       "    <tr>\n",
       "      <th>1949</th>\n",
       "      <td>2</td>\n",
       "    </tr>\n",
       "    <tr>\n",
       "      <th>1950</th>\n",
       "      <td>1</td>\n",
       "    </tr>\n",
       "    <tr>\n",
       "      <th>1953</th>\n",
       "      <td>2</td>\n",
       "    </tr>\n",
       "    <tr>\n",
       "      <th>1954</th>\n",
       "      <td>2</td>\n",
       "    </tr>\n",
       "    <tr>\n",
       "      <th>1955</th>\n",
       "      <td>4</td>\n",
       "    </tr>\n",
       "  </tbody>\n",
       "</table>\n",
       "</div>"
      ],
      "text/plain": [
       "      theme_id\n",
       "year          \n",
       "1949         2\n",
       "1950         1\n",
       "1953         2\n",
       "1954         2\n",
       "1955         4"
      ]
     },
     "execution_count": 9,
     "metadata": {},
     "output_type": "execute_result"
    }
   ],
   "source": [
    "# In our case, we want to calculate the number of different themes by calendar year. \n",
    "# This means we have to group the data by year and then count the number of unique theme_ids for that year.\n",
    "\n",
    "# Number of Themes per Calendar Year\n",
    "# We can accomplish this by chaining the .groupby() and the .agg() functions together:\n",
    "\n",
    "themes_by_year = df_sets.groupby(\"year\").agg({\"theme_id\":pd.Series.nunique})\n",
    "\n",
    "# Note, the .agg() method takes a dictionary as an argument. In this dictionary, \n",
    "# we specify which operation we'd like to apply to each column. In our case, we just want to calculate the \n",
    "# number of unique entries in the theme_id column by using our old friend, the .nunique() method.\n",
    "themes_by_year.head()"
   ]
  },
  {
   "cell_type": "code",
   "execution_count": 12,
   "id": "02cf93ca",
   "metadata": {},
   "outputs": [
    {
     "data": {
      "text/html": [
       "<div>\n",
       "<style scoped>\n",
       "    .dataframe tbody tr th:only-of-type {\n",
       "        vertical-align: middle;\n",
       "    }\n",
       "\n",
       "    .dataframe tbody tr th {\n",
       "        vertical-align: top;\n",
       "    }\n",
       "\n",
       "    .dataframe thead th {\n",
       "        text-align: right;\n",
       "    }\n",
       "</style>\n",
       "<table border=\"1\" class=\"dataframe\">\n",
       "  <thead>\n",
       "    <tr style=\"text-align: right;\">\n",
       "      <th></th>\n",
       "      <th>nr_themes</th>\n",
       "    </tr>\n",
       "    <tr>\n",
       "      <th>year</th>\n",
       "      <th></th>\n",
       "    </tr>\n",
       "  </thead>\n",
       "  <tbody>\n",
       "    <tr>\n",
       "      <th>1949</th>\n",
       "      <td>2</td>\n",
       "    </tr>\n",
       "    <tr>\n",
       "      <th>1950</th>\n",
       "      <td>1</td>\n",
       "    </tr>\n",
       "    <tr>\n",
       "      <th>1953</th>\n",
       "      <td>2</td>\n",
       "    </tr>\n",
       "    <tr>\n",
       "      <th>1954</th>\n",
       "      <td>2</td>\n",
       "    </tr>\n",
       "    <tr>\n",
       "      <th>1955</th>\n",
       "      <td>4</td>\n",
       "    </tr>\n",
       "  </tbody>\n",
       "</table>\n",
       "</div>"
      ],
      "text/plain": [
       "      nr_themes\n",
       "year           \n",
       "1949          2\n",
       "1950          1\n",
       "1953          2\n",
       "1954          2\n",
       "1955          4"
      ]
     },
     "execution_count": 12,
     "metadata": {},
     "output_type": "execute_result"
    }
   ],
   "source": [
    "# Let's give our column in themes_by_year a more appropriate name and let's take a look at what we've got:\n",
    "themes_by_year.rename(columns={\"theme_id\":\"nr_themes\"}, inplace=True)\n",
    "themes_by_year.head()"
   ]
  },
  {
   "cell_type": "code",
   "execution_count": 24,
   "id": "89997222",
   "metadata": {},
   "outputs": [
    {
     "data": {
      "text/html": [
       "<div>\n",
       "<style scoped>\n",
       "    .dataframe tbody tr th:only-of-type {\n",
       "        vertical-align: middle;\n",
       "    }\n",
       "\n",
       "    .dataframe tbody tr th {\n",
       "        vertical-align: top;\n",
       "    }\n",
       "\n",
       "    .dataframe thead th {\n",
       "        text-align: right;\n",
       "    }\n",
       "</style>\n",
       "<table border=\"1\" class=\"dataframe\">\n",
       "  <thead>\n",
       "    <tr style=\"text-align: right;\">\n",
       "      <th></th>\n",
       "      <th>nr_themes</th>\n",
       "    </tr>\n",
       "    <tr>\n",
       "      <th>year</th>\n",
       "      <th></th>\n",
       "    </tr>\n",
       "  </thead>\n",
       "  <tbody>\n",
       "    <tr>\n",
       "      <th>2017</th>\n",
       "      <td>89</td>\n",
       "    </tr>\n",
       "    <tr>\n",
       "      <th>2018</th>\n",
       "      <td>93</td>\n",
       "    </tr>\n",
       "    <tr>\n",
       "      <th>2019</th>\n",
       "      <td>78</td>\n",
       "    </tr>\n",
       "    <tr>\n",
       "      <th>2020</th>\n",
       "      <td>82</td>\n",
       "    </tr>\n",
       "    <tr>\n",
       "      <th>2021</th>\n",
       "      <td>1</td>\n",
       "    </tr>\n",
       "  </tbody>\n",
       "</table>\n",
       "</div>"
      ],
      "text/plain": [
       "      nr_themes\n",
       "year           \n",
       "2017         89\n",
       "2018         93\n",
       "2019         78\n",
       "2020         82\n",
       "2021          1"
      ]
     },
     "execution_count": 24,
     "metadata": {},
     "output_type": "execute_result"
    }
   ],
   "source": [
    "themes_by_year.tail()"
   ]
  },
  {
   "cell_type": "code",
   "execution_count": 25,
   "id": "558ba0e6",
   "metadata": {},
   "outputs": [],
   "source": [
    "# Here we can see that LEGO only had 2 themes during the first few years, but just like the number \n",
    "# of sets the number of themes expanded manifold over the years. Let's plot this on a chart again."
   ]
  },
  {
   "cell_type": "code",
   "execution_count": 13,
   "id": "62143d01",
   "metadata": {},
   "outputs": [
    {
     "data": {
      "text/plain": [
       "[<matplotlib.lines.Line2D at 0x12f60291610>]"
      ]
     },
     "execution_count": 13,
     "metadata": {},
     "output_type": "execute_result"
    },
    {
     "data": {
      "image/png": "[encoded data removed]",
      "text/plain": [
       "<Figure size 432x288 with 1 Axes>"
      ]
     },
     "metadata": {
      "needs_background": "light"
     },
     "output_type": "display_data"
    }
   ],
   "source": [
    "# # Here we can see that LEGO only had 2 themes during the first few years, but just like the number of sets \n",
    "# the number of themes expanded manifold over the years. Let's plot this on a chart again.\n",
    "\n",
    "plt.plot(themes_by_year.index[:-2], themes_by_year.nr_themes[:-2])"
   ]
  },
  {
   "cell_type": "code",
   "execution_count": 11,
   "id": "de8f45e3",
   "metadata": {},
   "outputs": [],
   "source": [
    "# Again, we're using the same slicing technique as before. \n",
    "# In the chart, we can see that LEGO has pretty consistently added more and more themes until the mid-1990s. \n",
    "# From then the number of themes has stagnated for around 10 years or so until the early 2010s."
   ]
  },
  {
   "cell_type": "markdown",
   "id": "05c10444",
   "metadata": {},
   "source": [
    "<h1> Superimposing Line Charts with Separate Axes </h1>"
   ]
  },
  {
   "cell_type": "code",
   "execution_count": 22,
   "id": "ad432a7e",
   "metadata": {},
   "outputs": [
    {
     "data": {
      "text/plain": [
       "[<matplotlib.lines.Line2D at 0x12f603efc70>]"
      ]
     },
     "execution_count": 22,
     "metadata": {},
     "output_type": "execute_result"
    },
    {
     "data": {
      "image/png": "[encoded data removed]",
      "text/plain": [
       "<Figure size 432x288 with 1 Axes>"
      ]
     },
     "metadata": {
      "needs_background": "light"
     },
     "output_type": "display_data"
    }
   ],
   "source": [
    "# Wouldn't it be nice to have the number of themes and the number sets on the same chart? \n",
    "# But what do we get if we just plot both of them the way we have before? \n",
    "plt.plot(sets_by_year.index[:-2], sets_by_year.set_num[:-2])\n",
    "plt.plot(themes_by_year.index[:-2], themes_by_year.nr_themes[:-2])"
   ]
  },
  {
   "cell_type": "code",
   "execution_count": 23,
   "id": "560fa79a",
   "metadata": {},
   "outputs": [],
   "source": [
    "# Well, that's not very informative! \n",
    "# The problem is that the \"number of themes\" and the \"number of sets\" have very different scales. \n",
    "# The theme number ranges between 0 and 90, while the number of sets ranges between 0 and 900. So what can we do?"
   ]
  },
  {
   "cell_type": "markdown",
   "id": "f6aa86b4",
   "metadata": {},
   "source": [
    "<h3>Two Separate Axes</h3>"
   ]
  },
  {
   "cell_type": "code",
   "execution_count": 24,
   "id": "e577a4c6",
   "metadata": {},
   "outputs": [
    {
     "data": {
      "text/plain": [
       "[<matplotlib.lines.Line2D at 0x12f6071e0d0>]"
      ]
     },
     "execution_count": 24,
     "metadata": {},
     "output_type": "execute_result"
    },
    {
     "data": {
      "image/png": "[encoded data removed]",
      "text/plain": [
       "<Figure size 432x288 with 2 Axes>"
      ]
     },
     "metadata": {
      "needs_background": "light"
     },
     "output_type": "display_data"
    }
   ],
   "source": [
    "# We need to be able to configure and plot our data on two separate axes on the same chart. \n",
    "# This involves getting hold of an axis object from Matplotlib.\n",
    "\n",
    "ax1 = plt.gca() # get current axes\n",
    "ax2 = ax1.twinx()  # create another axis that shares the same x-axis\n",
    "\n",
    "ax1.plot(sets_by_year.index[:-2], sets_by_year.set_num[:-2])\n",
    "ax2.plot(themes_by_year.index[:-2], themes_by_year.nr_themes[:-2])"
   ]
  },
  {
   "cell_type": "code",
   "execution_count": 25,
   "id": "1d550bff",
   "metadata": {},
   "outputs": [],
   "source": [
    "# That's very nice! But there's one problem: we can't tell the lines apart because they have the same colour! \n",
    "# Let's add some styling. Let's:\n",
    "\n",
    "# colour in the lines\n",
    "\n",
    "# colour in the axes and\n",
    "\n",
    "# add some labels\n",
    "\n",
    "# so that we can see what's going on. Here's what we get:"
   ]
  },
  {
   "cell_type": "code",
   "execution_count": 29,
   "id": "3dc70ca0",
   "metadata": {},
   "outputs": [
    {
     "data": {
      "text/plain": [
       "Text(0, 0.5, 'Number of themes')"
      ]
     },
     "execution_count": 29,
     "metadata": {},
     "output_type": "execute_result"
    },
    {
     "data": {
      "image/png": "[encoded data removed]",
      "text/plain": [
       "<Figure size 432x288 with 2 Axes>"
      ]
     },
     "metadata": {
      "needs_background": "light"
     },
     "output_type": "display_data"
    }
   ],
   "source": [
    "ax1 = plt.gca() # get current axes\n",
    "ax2 = ax1.twinx()  # create another axis that shares the same x-axis\n",
    "\n",
    "ax1.plot(sets_by_year.index[:-2], sets_by_year.set_num[:-2], color=\"g\")\n",
    "ax2.plot(themes_by_year.index[:-2], themes_by_year.nr_themes[:-2], color=\"b\")\n",
    "\n",
    "ax1.set_xlabel(\"year\")\n",
    "ax1.set_ylabel(\"Number of sets\", color=\"g\")\n",
    "ax2.set_ylabel(\"Number of themes\", color=\"b\")"
   ]
  },
  {
   "cell_type": "markdown",
   "id": "edd6fab5",
   "metadata": {},
   "source": [
    "<h1>Scatter Plots: Average Number of Parts per LEGO Set</h1>"
   ]
  },
  {
   "cell_type": "code",
   "execution_count": 30,
   "id": "92071d8f",
   "metadata": {},
   "outputs": [],
   "source": [
    "# Have LEGO sets become larger and more complex over time? \n",
    "# Let's work out the average number of parts per LEGO set. \n",
    "# This is the perfect time to revise how to use the .agg() function."
   ]
  },
  {
   "cell_type": "code",
   "execution_count": 31,
   "id": "593f6d8d",
   "metadata": {},
   "outputs": [
    {
     "data": {
      "text/html": [
       "<div>\n",
       "<style scoped>\n",
       "    .dataframe tbody tr th:only-of-type {\n",
       "        vertical-align: middle;\n",
       "    }\n",
       "\n",
       "    .dataframe tbody tr th {\n",
       "        vertical-align: top;\n",
       "    }\n",
       "\n",
       "    .dataframe thead th {\n",
       "        text-align: right;\n",
       "    }\n",
       "</style>\n",
       "<table border=\"1\" class=\"dataframe\">\n",
       "  <thead>\n",
       "    <tr style=\"text-align: right;\">\n",
       "      <th></th>\n",
       "      <th>set_num</th>\n",
       "      <th>name</th>\n",
       "      <th>year</th>\n",
       "      <th>theme_id</th>\n",
       "      <th>num_parts</th>\n",
       "    </tr>\n",
       "  </thead>\n",
       "  <tbody>\n",
       "    <tr>\n",
       "      <th>0</th>\n",
       "      <td>001-1</td>\n",
       "      <td>Gears</td>\n",
       "      <td>1965</td>\n",
       "      <td>1</td>\n",
       "      <td>43</td>\n",
       "    </tr>\n",
       "    <tr>\n",
       "      <th>1</th>\n",
       "      <td>0011-2</td>\n",
       "      <td>Town Mini-Figures</td>\n",
       "      <td>1978</td>\n",
       "      <td>84</td>\n",
       "      <td>12</td>\n",
       "    </tr>\n",
       "    <tr>\n",
       "      <th>2</th>\n",
       "      <td>0011-3</td>\n",
       "      <td>Castle 2 for 1 Bonus Offer</td>\n",
       "      <td>1987</td>\n",
       "      <td>199</td>\n",
       "      <td>0</td>\n",
       "    </tr>\n",
       "    <tr>\n",
       "      <th>3</th>\n",
       "      <td>0012-1</td>\n",
       "      <td>Space Mini-Figures</td>\n",
       "      <td>1979</td>\n",
       "      <td>143</td>\n",
       "      <td>12</td>\n",
       "    </tr>\n",
       "    <tr>\n",
       "      <th>4</th>\n",
       "      <td>0013-1</td>\n",
       "      <td>Space Mini-Figures</td>\n",
       "      <td>1979</td>\n",
       "      <td>143</td>\n",
       "      <td>12</td>\n",
       "    </tr>\n",
       "  </tbody>\n",
       "</table>\n",
       "</div>"
      ],
      "text/plain": [
       "  set_num                        name  year  theme_id  num_parts\n",
       "0   001-1                       Gears  1965         1         43\n",
       "1  0011-2           Town Mini-Figures  1978        84         12\n",
       "2  0011-3  Castle 2 for 1 Bonus Offer  1987       199          0\n",
       "3  0012-1          Space Mini-Figures  1979       143         12\n",
       "4  0013-1          Space Mini-Figures  1979       143         12"
      ]
     },
     "execution_count": 31,
     "metadata": {},
     "output_type": "execute_result"
    }
   ],
   "source": [
    "# Reading the sets csv file:\n",
    "df_sets = pd.read_csv('D:\\\\Desktop\\\\Study\\\\100 Days of Code - The Complete Python Pro Bootcamp for 2021\\\\DATA\\\\Lego\\\\data\\\\sets.csv')\n",
    "df_sets.head()\n",
    "\n",
    "\n"
   ]
  },
  {
   "cell_type": "code",
   "execution_count": 41,
   "id": "09124d6c",
   "metadata": {},
   "outputs": [
    {
     "data": {
      "text/html": [
       "<div>\n",
       "<style scoped>\n",
       "    .dataframe tbody tr th:only-of-type {\n",
       "        vertical-align: middle;\n",
       "    }\n",
       "\n",
       "    .dataframe tbody tr th {\n",
       "        vertical-align: top;\n",
       "    }\n",
       "\n",
       "    .dataframe thead th {\n",
       "        text-align: right;\n",
       "    }\n",
       "</style>\n",
       "<table border=\"1\" class=\"dataframe\">\n",
       "  <thead>\n",
       "    <tr style=\"text-align: right;\">\n",
       "      <th></th>\n",
       "      <th>num_parts</th>\n",
       "    </tr>\n",
       "    <tr>\n",
       "      <th>year</th>\n",
       "      <th></th>\n",
       "    </tr>\n",
       "  </thead>\n",
       "  <tbody>\n",
       "    <tr>\n",
       "      <th>1949</th>\n",
       "      <td>99.600000</td>\n",
       "    </tr>\n",
       "    <tr>\n",
       "      <th>1950</th>\n",
       "      <td>1.000000</td>\n",
       "    </tr>\n",
       "    <tr>\n",
       "      <th>1953</th>\n",
       "      <td>13.500000</td>\n",
       "    </tr>\n",
       "    <tr>\n",
       "      <th>1954</th>\n",
       "      <td>12.357143</td>\n",
       "    </tr>\n",
       "    <tr>\n",
       "      <th>1955</th>\n",
       "      <td>36.607143</td>\n",
       "    </tr>\n",
       "  </tbody>\n",
       "</table>\n",
       "</div>"
      ],
      "text/plain": [
       "      num_parts\n",
       "year           \n",
       "1949  99.600000\n",
       "1950   1.000000\n",
       "1953  13.500000\n",
       "1954  12.357143\n",
       "1955  36.607143"
      ]
     },
     "execution_count": 41,
     "metadata": {},
     "output_type": "execute_result"
    }
   ],
   "source": [
    "# Have LEGO sets become larger and more complex over time? \n",
    "# Let's work out the average number of parts per LEGO set. \n",
    "# Once again, we're going to use the .groupby() and the .agg() function together to work this one out. \n",
    "# However, this time we pass a dictionary to the .agg() function so that we will target the num_parts column with \n",
    "# the mean() function. That way, we group our data by year and then we average the number of parts for that year.\n",
    "\n",
    "parts_per_set = df_sets.groupby('year').agg({'num_parts': pd.Series.mean})\n",
    "parts_per_set.head()"
   ]
  },
  {
   "cell_type": "code",
   "execution_count": 42,
   "id": "31e6d392",
   "metadata": {},
   "outputs": [
    {
     "data": {
      "text/html": [
       "<div>\n",
       "<style scoped>\n",
       "    .dataframe tbody tr th:only-of-type {\n",
       "        vertical-align: middle;\n",
       "    }\n",
       "\n",
       "    .dataframe tbody tr th {\n",
       "        vertical-align: top;\n",
       "    }\n",
       "\n",
       "    .dataframe thead th {\n",
       "        text-align: right;\n",
       "    }\n",
       "</style>\n",
       "<table border=\"1\" class=\"dataframe\">\n",
       "  <thead>\n",
       "    <tr style=\"text-align: right;\">\n",
       "      <th></th>\n",
       "      <th>num_parts</th>\n",
       "    </tr>\n",
       "    <tr>\n",
       "      <th>year</th>\n",
       "      <th></th>\n",
       "    </tr>\n",
       "  </thead>\n",
       "  <tbody>\n",
       "    <tr>\n",
       "      <th>2017</th>\n",
       "      <td>221.840967</td>\n",
       "    </tr>\n",
       "    <tr>\n",
       "      <th>2018</th>\n",
       "      <td>213.618873</td>\n",
       "    </tr>\n",
       "    <tr>\n",
       "      <th>2019</th>\n",
       "      <td>207.510714</td>\n",
       "    </tr>\n",
       "    <tr>\n",
       "      <th>2020</th>\n",
       "      <td>259.732938</td>\n",
       "    </tr>\n",
       "    <tr>\n",
       "      <th>2021</th>\n",
       "      <td>0.000000</td>\n",
       "    </tr>\n",
       "  </tbody>\n",
       "</table>\n",
       "</div>"
      ],
      "text/plain": [
       "       num_parts\n",
       "year            \n",
       "2017  221.840967\n",
       "2018  213.618873\n",
       "2019  207.510714\n",
       "2020  259.732938\n",
       "2021    0.000000"
      ]
     },
     "execution_count": 42,
     "metadata": {},
     "output_type": "execute_result"
    }
   ],
   "source": [
    "parts_per_set.tail()"
   ]
  },
  {
   "cell_type": "markdown",
   "id": "d464ddfb",
   "metadata": {},
   "source": [
    "<h1>Create a Scatter Plot</h1>"
   ]
  },
  {
   "cell_type": "code",
   "execution_count": 43,
   "id": "8b09a50c",
   "metadata": {},
   "outputs": [
    {
     "data": {
      "text/plain": [
       "<matplotlib.collections.PathCollection at 0x12f61ce4910>"
      ]
     },
     "execution_count": 43,
     "metadata": {},
     "output_type": "execute_result"
    },
    {
     "data": {
      "image/png": "[encoded data removed]",
      "text/plain": [
       "<Figure size 432x288 with 1 Axes>"
      ]
     },
     "metadata": {
      "needs_background": "light"
     },
     "output_type": "display_data"
    }
   ],
   "source": [
    "# To visualise our parts_per_set data, let's create a scatter plot.\n",
    "# A scatter plot simply uses dots to represent the values of each data point.\n",
    "\n",
    "# We just need to call the .scatter() instead of the .plot() method to create the chart. \n",
    "# For the x-values, we'll use the index of the parts_per_set Series (the years) and for the y-values, \n",
    "# we'll use the values of the series (the column name happens to be num_parts).\n",
    "\n",
    "plt.scatter(parts_per_set.index[:-2], parts_per_set.num_parts[:-2])\n"
   ]
  },
  {
   "cell_type": "code",
   "execution_count": 44,
   "id": "38c11a26",
   "metadata": {},
   "outputs": [],
   "source": [
    "# From the chart, we can definitely make out an upward trend in the size and complexity of the LEGO sets \n",
    "# based on the average number of parts. In the 2010s the average set contained around 200 individual pieces, \n",
    "# which is roughly double what average LEGO set used to contain in the 1960s."
   ]
  },
  {
   "cell_type": "markdown",
   "id": "ce8b6c5c",
   "metadata": {},
   "source": [
    "<h1>Relational Database Schemas: Primary and Foreign Keys</h1>"
   ]
  },
  {
   "cell_type": "code",
   "execution_count": 45,
   "id": "df5721c6",
   "metadata": {},
   "outputs": [],
   "source": [
    "# LEGO has licensed many hit franchises from Harry Potter to Marvel Super Heros to many others. \n",
    "# But which theme has the largest number of individual sets? Is it one of LEGO's own themes like Ninjago or Technic \n",
    "# or is it a third party theme? Let's analyse LEGO's product lines in more detail!\n"
   ]
  },
  {
   "cell_type": "code",
   "execution_count": 47,
   "id": "43486a8b",
   "metadata": {},
   "outputs": [
    {
     "data": {
      "text/plain": [
       "158    753\n",
       "501    656\n",
       "494    398\n",
       "435    356\n",
       "503    329\n",
       "Name: theme_id, dtype: int64"
      ]
     },
     "execution_count": 47,
     "metadata": {},
     "output_type": "execute_result"
    }
   ],
   "source": [
    "# To count the number of sets per Theme we can use the .value_counts() method on our theme_id column. \n",
    "# But there's one problem:\n",
    "sets_theme_count = df_sets[\"theme_id\"].value_counts()\n",
    "sets_theme_count.head()"
   ]
  },
  {
   "cell_type": "code",
   "execution_count": 49,
   "id": "e91363e6",
   "metadata": {},
   "outputs": [],
   "source": [
    "# We have no idea what our themes are actually called! \n",
    "# Ok, we can see that the theme with id 158 is the largest theme containing 753 individual sets, \n",
    "# but what's that theme called? This is not very helpful. We need to find the names of the themes based on \n",
    "# the theme_id from the themes.csv file."
   ]
  },
  {
   "cell_type": "markdown",
   "id": "9ec6bfa3",
   "metadata": {},
   "source": [
    "<h3>Display the database schema:</h3>"
   ]
  },
  {
   "cell_type": "markdown",
   "id": "10ee8651",
   "metadata": {},
   "source": [
    "<img src=\"assets/rebrickable_schema.png\">\n"
   ]
  },
  {
   "cell_type": "markdown",
   "id": "883d428a",
   "metadata": {},
   "source": [
    "<h1>Working with a Relational Database</h1>"
   ]
  },
  {
   "cell_type": "code",
   "execution_count": 55,
   "id": "aaec52f6",
   "metadata": {},
   "outputs": [],
   "source": [
    "# What is a database schema? A schema is just how the database is organised. \n",
    "# Many relational databases, such as our LEGO data, is split into individual tables. \n",
    "# We have separate tables for the colours, the sets and the thems. With a relational database, the tables are linked to \n",
    "# each other through their keys."
   ]
  },
  {
   "cell_type": "markdown",
   "id": "65c9414c",
   "metadata": {},
   "source": [
    "<h1>Understand the theme.csv file</h1>"
   ]
  },
  {
   "cell_type": "code",
   "execution_count": 56,
   "id": "42519f9c",
   "metadata": {},
   "outputs": [],
   "source": [
    "# The themes.csv file has the actual theme names. \n",
    "# How is this table linked to the others tables? \n",
    "# Well, the sets .csv has theme_ids which match the id column in the themes.csv.\n",
    "\n",
    "# This means that the theme_id is the foreign key inside the sets.csv. \n",
    "# Many different sets can be part of the same theme. But inside the themes.csv, each theme_id, which \n",
    "# is just called id is unique. This uniqueness makes the id column the primary key inside the themes.csv. \n",
    "# To see this in action, explore the themes.csv."
   ]
  },
  {
   "cell_type": "markdown",
   "id": "fba089d8",
   "metadata": {},
   "source": [
    "<h3>How is the themes.csv structured?</h3>"
   ]
  },
  {
   "cell_type": "code",
   "execution_count": 57,
   "id": "0253f04f",
   "metadata": {},
   "outputs": [
    {
     "data": {
      "text/html": [
       "<div>\n",
       "<style scoped>\n",
       "    .dataframe tbody tr th:only-of-type {\n",
       "        vertical-align: middle;\n",
       "    }\n",
       "\n",
       "    .dataframe tbody tr th {\n",
       "        vertical-align: top;\n",
       "    }\n",
       "\n",
       "    .dataframe thead th {\n",
       "        text-align: right;\n",
       "    }\n",
       "</style>\n",
       "<table border=\"1\" class=\"dataframe\">\n",
       "  <thead>\n",
       "    <tr style=\"text-align: right;\">\n",
       "      <th></th>\n",
       "      <th>id</th>\n",
       "      <th>name</th>\n",
       "      <th>parent_id</th>\n",
       "    </tr>\n",
       "  </thead>\n",
       "  <tbody>\n",
       "    <tr>\n",
       "      <th>0</th>\n",
       "      <td>1</td>\n",
       "      <td>Technic</td>\n",
       "      <td>NaN</td>\n",
       "    </tr>\n",
       "    <tr>\n",
       "      <th>1</th>\n",
       "      <td>2</td>\n",
       "      <td>Arctic Technic</td>\n",
       "      <td>1.0</td>\n",
       "    </tr>\n",
       "    <tr>\n",
       "      <th>2</th>\n",
       "      <td>3</td>\n",
       "      <td>Competition</td>\n",
       "      <td>1.0</td>\n",
       "    </tr>\n",
       "    <tr>\n",
       "      <th>3</th>\n",
       "      <td>4</td>\n",
       "      <td>Expert Builder</td>\n",
       "      <td>1.0</td>\n",
       "    </tr>\n",
       "    <tr>\n",
       "      <th>4</th>\n",
       "      <td>5</td>\n",
       "      <td>Model</td>\n",
       "      <td>1.0</td>\n",
       "    </tr>\n",
       "  </tbody>\n",
       "</table>\n",
       "</div>"
      ],
      "text/plain": [
       "   id            name  parent_id\n",
       "0   1         Technic        NaN\n",
       "1   2  Arctic Technic        1.0\n",
       "2   3     Competition        1.0\n",
       "3   4  Expert Builder        1.0\n",
       "4   5           Model        1.0"
      ]
     },
     "execution_count": 57,
     "metadata": {},
     "output_type": "execute_result"
    }
   ],
   "source": [
    "# Search for the name 'Star Wars'. \n",
    "# How many ids correspond to the 'Star Wars' name in the themes.csv?\n",
    "# Reading the themes csv file:\n",
    "df_themes = pd.read_csv('D:\\\\Desktop\\\\Study\\\\100 Days of Code - The Complete Python Pro Bootcamp for 2021\\\\DATA\\\\Lego\\\\data\\\\themes.csv')\n",
    "df_themes.head()"
   ]
  },
  {
   "cell_type": "code",
   "execution_count": 58,
   "id": "bf677a08",
   "metadata": {},
   "outputs": [
    {
     "data": {
      "text/html": [
       "<div>\n",
       "<style scoped>\n",
       "    .dataframe tbody tr th:only-of-type {\n",
       "        vertical-align: middle;\n",
       "    }\n",
       "\n",
       "    .dataframe tbody tr th {\n",
       "        vertical-align: top;\n",
       "    }\n",
       "\n",
       "    .dataframe thead th {\n",
       "        text-align: right;\n",
       "    }\n",
       "</style>\n",
       "<table border=\"1\" class=\"dataframe\">\n",
       "  <thead>\n",
       "    <tr style=\"text-align: right;\">\n",
       "      <th></th>\n",
       "      <th>id</th>\n",
       "      <th>name</th>\n",
       "      <th>parent_id</th>\n",
       "    </tr>\n",
       "  </thead>\n",
       "  <tbody>\n",
       "    <tr>\n",
       "      <th>17</th>\n",
       "      <td>18</td>\n",
       "      <td>Star Wars</td>\n",
       "      <td>1.0</td>\n",
       "    </tr>\n",
       "    <tr>\n",
       "      <th>150</th>\n",
       "      <td>158</td>\n",
       "      <td>Star Wars</td>\n",
       "      <td>NaN</td>\n",
       "    </tr>\n",
       "    <tr>\n",
       "      <th>174</th>\n",
       "      <td>209</td>\n",
       "      <td>Star Wars</td>\n",
       "      <td>207.0</td>\n",
       "    </tr>\n",
       "    <tr>\n",
       "      <th>211</th>\n",
       "      <td>261</td>\n",
       "      <td>Star Wars</td>\n",
       "      <td>258.0</td>\n",
       "    </tr>\n",
       "  </tbody>\n",
       "</table>\n",
       "</div>"
      ],
      "text/plain": [
       "      id       name  parent_id\n",
       "17    18  Star Wars        1.0\n",
       "150  158  Star Wars        NaN\n",
       "174  209  Star Wars      207.0\n",
       "211  261  Star Wars      258.0"
      ]
     },
     "execution_count": 58,
     "metadata": {},
     "output_type": "execute_result"
    }
   ],
   "source": [
    "# Looking at the first 5 rows, we see the column names. Each value in the id column is unique \n",
    "# (this is the primary key for the themes table). The theme names are not unique. \n",
    "# If we search for the name \"Star Wars\", we see that 4 different ids correspond to that name.\n",
    "\n",
    "df_themes[df_themes.name == \"Star Wars\"]"
   ]
  },
  {
   "cell_type": "code",
   "execution_count": 62,
   "id": "2456aca2",
   "metadata": {},
   "outputs": [
    {
     "data": {
      "text/html": [
       "<div>\n",
       "<style scoped>\n",
       "    .dataframe tbody tr th:only-of-type {\n",
       "        vertical-align: middle;\n",
       "    }\n",
       "\n",
       "    .dataframe tbody tr th {\n",
       "        vertical-align: top;\n",
       "    }\n",
       "\n",
       "    .dataframe thead th {\n",
       "        text-align: right;\n",
       "    }\n",
       "</style>\n",
       "<table border=\"1\" class=\"dataframe\">\n",
       "  <thead>\n",
       "    <tr style=\"text-align: right;\">\n",
       "      <th></th>\n",
       "      <th>set_num</th>\n",
       "      <th>name</th>\n",
       "      <th>year</th>\n",
       "      <th>theme_id</th>\n",
       "      <th>num_parts</th>\n",
       "    </tr>\n",
       "  </thead>\n",
       "  <tbody>\n",
       "    <tr>\n",
       "      <th>8786</th>\n",
       "      <td>65081-1</td>\n",
       "      <td>R2-D2 / C-3PO Droid Collectors Set</td>\n",
       "      <td>2002</td>\n",
       "      <td>18</td>\n",
       "      <td>1</td>\n",
       "    </tr>\n",
       "    <tr>\n",
       "      <th>12051</th>\n",
       "      <td>8000-1</td>\n",
       "      <td>Pit Droid</td>\n",
       "      <td>2000</td>\n",
       "      <td>18</td>\n",
       "      <td>223</td>\n",
       "    </tr>\n",
       "    <tr>\n",
       "      <th>12058</th>\n",
       "      <td>8001-1</td>\n",
       "      <td>Battle Droid</td>\n",
       "      <td>2000</td>\n",
       "      <td>18</td>\n",
       "      <td>336</td>\n",
       "    </tr>\n",
       "    <tr>\n",
       "      <th>12066</th>\n",
       "      <td>8002-1</td>\n",
       "      <td>Destroyer Droid</td>\n",
       "      <td>2000</td>\n",
       "      <td>18</td>\n",
       "      <td>567</td>\n",
       "    </tr>\n",
       "    <tr>\n",
       "      <th>12071</th>\n",
       "      <td>8007-1</td>\n",
       "      <td>C-3PO</td>\n",
       "      <td>2001</td>\n",
       "      <td>18</td>\n",
       "      <td>339</td>\n",
       "    </tr>\n",
       "    <tr>\n",
       "      <th>12072</th>\n",
       "      <td>8008-1</td>\n",
       "      <td>Stormtrooper</td>\n",
       "      <td>2001</td>\n",
       "      <td>18</td>\n",
       "      <td>360</td>\n",
       "    </tr>\n",
       "    <tr>\n",
       "      <th>12073</th>\n",
       "      <td>8009-1</td>\n",
       "      <td>R2-D2</td>\n",
       "      <td>2002</td>\n",
       "      <td>18</td>\n",
       "      <td>239</td>\n",
       "    </tr>\n",
       "    <tr>\n",
       "      <th>12074</th>\n",
       "      <td>8010-1</td>\n",
       "      <td>Darth Vader</td>\n",
       "      <td>2002</td>\n",
       "      <td>18</td>\n",
       "      <td>388</td>\n",
       "    </tr>\n",
       "    <tr>\n",
       "      <th>12081</th>\n",
       "      <td>8011-1</td>\n",
       "      <td>Jango Fett</td>\n",
       "      <td>2002</td>\n",
       "      <td>18</td>\n",
       "      <td>425</td>\n",
       "    </tr>\n",
       "    <tr>\n",
       "      <th>12083</th>\n",
       "      <td>8012-1</td>\n",
       "      <td>Super Battle Droid</td>\n",
       "      <td>2002</td>\n",
       "      <td>18</td>\n",
       "      <td>378</td>\n",
       "    </tr>\n",
       "    <tr>\n",
       "      <th>15273</th>\n",
       "      <td>K8008-1</td>\n",
       "      <td>Darth Vader / Stormtrooper Kit</td>\n",
       "      <td>2002</td>\n",
       "      <td>18</td>\n",
       "      <td>0</td>\n",
       "    </tr>\n",
       "  </tbody>\n",
       "</table>\n",
       "</div>"
      ],
      "text/plain": [
       "       set_num                                name  year  theme_id  num_parts\n",
       "8786   65081-1  R2-D2 / C-3PO Droid Collectors Set  2002        18          1\n",
       "12051   8000-1                           Pit Droid  2000        18        223\n",
       "12058   8001-1                        Battle Droid  2000        18        336\n",
       "12066   8002-1                     Destroyer Droid  2000        18        567\n",
       "12071   8007-1                               C-3PO  2001        18        339\n",
       "12072   8008-1                        Stormtrooper  2001        18        360\n",
       "12073   8009-1                               R2-D2  2002        18        239\n",
       "12074   8010-1                         Darth Vader  2002        18        388\n",
       "12081   8011-1                          Jango Fett  2002        18        425\n",
       "12083   8012-1                  Super Battle Droid  2002        18        378\n",
       "15273  K8008-1      Darth Vader / Stormtrooper Kit  2002        18          0"
      ]
     },
     "execution_count": 62,
     "metadata": {},
     "output_type": "execute_result"
    }
   ],
   "source": [
    "# Why would Star Wars have so many different themes? \n",
    "# We can check which products corresponded to those themes in the sets.csv:\n",
    "\n",
    "df_sets[df_sets.theme_id == 18]"
   ]
  },
  {
   "cell_type": "code",
   "execution_count": 63,
   "id": "a1486aeb",
   "metadata": {},
   "outputs": [
    {
     "data": {
      "text/html": [
       "<div>\n",
       "<style scoped>\n",
       "    .dataframe tbody tr th:only-of-type {\n",
       "        vertical-align: middle;\n",
       "    }\n",
       "\n",
       "    .dataframe tbody tr th {\n",
       "        vertical-align: top;\n",
       "    }\n",
       "\n",
       "    .dataframe thead th {\n",
       "        text-align: right;\n",
       "    }\n",
       "</style>\n",
       "<table border=\"1\" class=\"dataframe\">\n",
       "  <thead>\n",
       "    <tr style=\"text-align: right;\">\n",
       "      <th></th>\n",
       "      <th>set_num</th>\n",
       "      <th>name</th>\n",
       "      <th>year</th>\n",
       "      <th>theme_id</th>\n",
       "      <th>num_parts</th>\n",
       "    </tr>\n",
       "  </thead>\n",
       "  <tbody>\n",
       "    <tr>\n",
       "      <th>11013</th>\n",
       "      <td>75023-1</td>\n",
       "      <td>Star Wars Advent Calendar 2013</td>\n",
       "      <td>2013</td>\n",
       "      <td>209</td>\n",
       "      <td>254</td>\n",
       "    </tr>\n",
       "    <tr>\n",
       "      <th>11046</th>\n",
       "      <td>75056-1</td>\n",
       "      <td>Star Wars Advent Calendar 2014</td>\n",
       "      <td>2014</td>\n",
       "      <td>209</td>\n",
       "      <td>273</td>\n",
       "    </tr>\n",
       "    <tr>\n",
       "      <th>11080</th>\n",
       "      <td>75097-1</td>\n",
       "      <td>Star Wars Advent Calendar 2015</td>\n",
       "      <td>2015</td>\n",
       "      <td>209</td>\n",
       "      <td>291</td>\n",
       "    </tr>\n",
       "    <tr>\n",
       "      <th>11131</th>\n",
       "      <td>75146-1</td>\n",
       "      <td>Star Wars Advent Calendar 2016</td>\n",
       "      <td>2016</td>\n",
       "      <td>209</td>\n",
       "      <td>282</td>\n",
       "    </tr>\n",
       "    <tr>\n",
       "      <th>11173</th>\n",
       "      <td>75184-1</td>\n",
       "      <td>Star Wars Advent Calendar 2017</td>\n",
       "      <td>2017</td>\n",
       "      <td>209</td>\n",
       "      <td>309</td>\n",
       "    </tr>\n",
       "    <tr>\n",
       "      <th>11206</th>\n",
       "      <td>75213-1</td>\n",
       "      <td>Star Wars Advent Calendar 2018</td>\n",
       "      <td>2018</td>\n",
       "      <td>209</td>\n",
       "      <td>307</td>\n",
       "    </tr>\n",
       "    <tr>\n",
       "      <th>11245</th>\n",
       "      <td>75245-1</td>\n",
       "      <td>Star Wars Advent Calendar 2019</td>\n",
       "      <td>2019</td>\n",
       "      <td>209</td>\n",
       "      <td>280</td>\n",
       "    </tr>\n",
       "    <tr>\n",
       "      <th>11281</th>\n",
       "      <td>75279-1</td>\n",
       "      <td>Star Wars Advent Calendar 2020</td>\n",
       "      <td>2020</td>\n",
       "      <td>209</td>\n",
       "      <td>312</td>\n",
       "    </tr>\n",
       "    <tr>\n",
       "      <th>12019</th>\n",
       "      <td>7958-1</td>\n",
       "      <td>Star Wars Advent Calendar 2011</td>\n",
       "      <td>2011</td>\n",
       "      <td>209</td>\n",
       "      <td>267</td>\n",
       "    </tr>\n",
       "    <tr>\n",
       "      <th>14352</th>\n",
       "      <td>9509-1</td>\n",
       "      <td>Star Wars Advent Calendar 2012</td>\n",
       "      <td>2012</td>\n",
       "      <td>209</td>\n",
       "      <td>235</td>\n",
       "    </tr>\n",
       "  </tbody>\n",
       "</table>\n",
       "</div>"
      ],
      "text/plain": [
       "       set_num                            name  year  theme_id  num_parts\n",
       "11013  75023-1  Star Wars Advent Calendar 2013  2013       209        254\n",
       "11046  75056-1  Star Wars Advent Calendar 2014  2014       209        273\n",
       "11080  75097-1  Star Wars Advent Calendar 2015  2015       209        291\n",
       "11131  75146-1  Star Wars Advent Calendar 2016  2016       209        282\n",
       "11173  75184-1  Star Wars Advent Calendar 2017  2017       209        309\n",
       "11206  75213-1  Star Wars Advent Calendar 2018  2018       209        307\n",
       "11245  75245-1  Star Wars Advent Calendar 2019  2019       209        280\n",
       "11281  75279-1  Star Wars Advent Calendar 2020  2020       209        312\n",
       "12019   7958-1  Star Wars Advent Calendar 2011  2011       209        267\n",
       "14352   9509-1  Star Wars Advent Calendar 2012  2012       209        235"
      ]
     },
     "execution_count": 63,
     "metadata": {},
     "output_type": "execute_result"
    }
   ],
   "source": [
    "# Star Wars is a really long-running franchise. Theme number 18 was running from 2000 to 2002 and seems to be \n",
    "# comprised of several of the show's characters. What about, say theme 209?\n",
    "\n",
    "df_sets[df_sets.theme_id == 209]"
   ]
  },
  {
   "cell_type": "code",
   "execution_count": 64,
   "id": "5932ff63",
   "metadata": {},
   "outputs": [],
   "source": [
    "# Here we see that all of the Star Wars Advent Calendars share the same theme_id. That makes sense."
   ]
  },
  {
   "cell_type": "markdown",
   "id": "0a20872d",
   "metadata": {},
   "source": [
    "<h1>How to Merge DataFrames and Create Bar Charts</h1>"
   ]
  },
  {
   "cell_type": "code",
   "execution_count": 65,
   "id": "03425159",
   "metadata": {},
   "outputs": [],
   "source": [
    "# Wouldn't it be nice if we could combine our data on theme names with the number sets per theme? \n",
    "\n",
    "# Let's use the .merge() method to combine two separate DataFrames into one. \n",
    "# The merge method works on columns with the same name in both DataFrames.\n"
   ]
  },
  {
   "cell_type": "code",
   "execution_count": 66,
   "id": "2bb23098",
   "metadata": {},
   "outputs": [
    {
     "data": {
      "text/plain": [
       "158    753\n",
       "501    656\n",
       "494    398\n",
       "435    356\n",
       "503    329\n",
       "Name: theme_id, dtype: int64"
      ]
     },
     "execution_count": 66,
     "metadata": {},
     "output_type": "execute_result"
    }
   ],
   "source": [
    "# Currently, our theme_ids and our number of sets per theme live inside a Series called set_theme_count.\n",
    "sets_theme_count = df_sets[\"theme_id\"].value_counts()\n",
    "sets_theme_count.head()"
   ]
  },
  {
   "cell_type": "code",
   "execution_count": 68,
   "id": "9f37d6f2",
   "metadata": {},
   "outputs": [
    {
     "data": {
      "text/html": [
       "<div>\n",
       "<style scoped>\n",
       "    .dataframe tbody tr th:only-of-type {\n",
       "        vertical-align: middle;\n",
       "    }\n",
       "\n",
       "    .dataframe tbody tr th {\n",
       "        vertical-align: top;\n",
       "    }\n",
       "\n",
       "    .dataframe thead th {\n",
       "        text-align: right;\n",
       "    }\n",
       "</style>\n",
       "<table border=\"1\" class=\"dataframe\">\n",
       "  <thead>\n",
       "    <tr style=\"text-align: right;\">\n",
       "      <th></th>\n",
       "      <th>id</th>\n",
       "      <th>sets_count</th>\n",
       "    </tr>\n",
       "  </thead>\n",
       "  <tbody>\n",
       "    <tr>\n",
       "      <th>0</th>\n",
       "      <td>158</td>\n",
       "      <td>753</td>\n",
       "    </tr>\n",
       "    <tr>\n",
       "      <th>1</th>\n",
       "      <td>501</td>\n",
       "      <td>656</td>\n",
       "    </tr>\n",
       "    <tr>\n",
       "      <th>2</th>\n",
       "      <td>494</td>\n",
       "      <td>398</td>\n",
       "    </tr>\n",
       "    <tr>\n",
       "      <th>3</th>\n",
       "      <td>435</td>\n",
       "      <td>356</td>\n",
       "    </tr>\n",
       "    <tr>\n",
       "      <th>4</th>\n",
       "      <td>503</td>\n",
       "      <td>329</td>\n",
       "    </tr>\n",
       "  </tbody>\n",
       "</table>\n",
       "</div>"
      ],
      "text/plain": [
       "    id  sets_count\n",
       "0  158         753\n",
       "1  501         656\n",
       "2  494         398\n",
       "3  435         356\n",
       "4  503         329"
      ]
     },
     "execution_count": 68,
     "metadata": {},
     "output_type": "execute_result"
    }
   ],
   "source": [
    "# LETS GIVE OUR COLUMNS A NAME:\n",
    "# To make sure we have a column with the name id, I'll convert this Pandas Series into a Pandas DataFrame.\n",
    "sets_theme_count = pd.DataFrame({\"id\": sets_theme_count.index, \"sets_count\":sets_theme_count.values})\n",
    "sets_theme_count.head()"
   ]
  },
  {
   "cell_type": "code",
   "execution_count": 69,
   "id": "74a9dba0",
   "metadata": {},
   "outputs": [],
   "source": [
    "# Here I'm providing a dictionary to create the DataFrame. The keys in the dictionary become my column names."
   ]
  },
  {
   "cell_type": "markdown",
   "id": "3ddf9711",
   "metadata": {},
   "source": [
    "<h1>The Pandas .merge() function</h1>"
   ]
  },
  {
   "cell_type": "code",
   "execution_count": 71,
   "id": "90b7fb83",
   "metadata": {},
   "outputs": [],
   "source": [
    "# To .merge() two DataFrame along a particular column, we need to provide our two DataFrames and then the column name \n",
    "# on which to merge. This is why we set on='id'. Both our set_theme_count and our df_themes \n",
    "# DataFrames have a column with this name."
   ]
  },
  {
   "cell_type": "code",
   "execution_count": 73,
   "id": "7a72d108",
   "metadata": {},
   "outputs": [
    {
     "data": {
      "text/html": [
       "<div>\n",
       "<style scoped>\n",
       "    .dataframe tbody tr th:only-of-type {\n",
       "        vertical-align: middle;\n",
       "    }\n",
       "\n",
       "    .dataframe tbody tr th {\n",
       "        vertical-align: top;\n",
       "    }\n",
       "\n",
       "    .dataframe thead th {\n",
       "        text-align: right;\n",
       "    }\n",
       "</style>\n",
       "<table border=\"1\" class=\"dataframe\">\n",
       "  <thead>\n",
       "    <tr style=\"text-align: right;\">\n",
       "      <th></th>\n",
       "      <th>id</th>\n",
       "      <th>sets_count</th>\n",
       "      <th>name</th>\n",
       "      <th>parent_id</th>\n",
       "    </tr>\n",
       "  </thead>\n",
       "  <tbody>\n",
       "    <tr>\n",
       "      <th>0</th>\n",
       "      <td>158</td>\n",
       "      <td>753</td>\n",
       "      <td>Star Wars</td>\n",
       "      <td>NaN</td>\n",
       "    </tr>\n",
       "    <tr>\n",
       "      <th>1</th>\n",
       "      <td>501</td>\n",
       "      <td>656</td>\n",
       "      <td>Gear</td>\n",
       "      <td>NaN</td>\n",
       "    </tr>\n",
       "    <tr>\n",
       "      <th>2</th>\n",
       "      <td>494</td>\n",
       "      <td>398</td>\n",
       "      <td>Friends</td>\n",
       "      <td>NaN</td>\n",
       "    </tr>\n",
       "  </tbody>\n",
       "</table>\n",
       "</div>"
      ],
      "text/plain": [
       "    id  sets_count       name  parent_id\n",
       "0  158         753  Star Wars        NaN\n",
       "1  501         656       Gear        NaN\n",
       "2  494         398    Friends        NaN"
      ]
     },
     "execution_count": 73,
     "metadata": {},
     "output_type": "execute_result"
    }
   ],
   "source": [
    "merged_df = pd.merge(sets_theme_count, df_themes, on='id')\n",
    "merged_df[:3]\n",
    "\n",
    "# The first 3 rows in our merged DataFrame look like this:"
   ]
  },
  {
   "cell_type": "code",
   "execution_count": 74,
   "id": "2f87e873",
   "metadata": {},
   "outputs": [],
   "source": [
    "# Aha! Star Wars is indeed the theme with the most LEGO sets. Let's plot the top 10 themes on a chart."
   ]
  },
  {
   "cell_type": "markdown",
   "id": "6e24aed6",
   "metadata": {},
   "source": [
    "<h1>Creating a Bar Chart</h1>"
   ]
  },
  {
   "cell_type": "code",
   "execution_count": 75,
   "id": "915c971b",
   "metadata": {},
   "outputs": [
    {
     "data": {
      "text/plain": [
       "<BarContainer object of 10 artists>"
      ]
     },
     "execution_count": 75,
     "metadata": {},
     "output_type": "execute_result"
    },
    {
     "data": {
      "image/png": "[encoded data removed]",
      "text/plain": [
       "<Figure size 432x288 with 1 Axes>"
      ]
     },
     "metadata": {
      "needs_background": "light"
     },
     "output_type": "display_data"
    }
   ],
   "source": [
    "# Matplotlib can create almost any chart imaginable with very few lines of code. Using .bar() we can provide \n",
    "# our theme names and the number of sets. This is what we get:\n",
    "\n",
    "plt.bar(merged_df.name[:10], merged_df.sets_count[:10])"
   ]
  },
  {
   "cell_type": "code",
   "execution_count": 80,
   "id": "4880ce6f",
   "metadata": {},
   "outputs": [
    {
     "data": {
      "text/plain": [
       "<BarContainer object of 10 artists>"
      ]
     },
     "execution_count": 80,
     "metadata": {},
     "output_type": "execute_result"
    },
    {
     "data": {
      "image/png": "[encoded data removed]",
      "text/plain": [
       "<Figure size 1008x576 with 1 Axes>"
      ]
     },
     "metadata": {
      "needs_background": "light"
     },
     "output_type": "display_data"
    }
   ],
   "source": [
    "# That worked, but it's almost unreadable.\n",
    "# The good thing for us is that we already know how to customize our charts! \n",
    "# Here's what we get when we increase the size of our figure, add some labels, and most importantly, \n",
    "# rotate the category names on the x-axis so that they don't overlap.\n",
    "\n",
    "plt.figure(figsize=(14,8))\n",
    "plt.xticks(fontsize=14, rotation=45)\n",
    "plt.yticks(fontsize=14)\n",
    "plt.ylabel('Nr of Sets', fontsize=14)\n",
    "plt.xlabel('Theme Name', fontsize=14)\n",
    " \n",
    "plt.bar(merged_df.name[:10], merged_df.sets_count[:10])"
   ]
  },
  {
   "cell_type": "code",
   "execution_count": 81,
   "id": "ebfcb419",
   "metadata": {},
   "outputs": [],
   "source": [
    "# Niiiiice.So what can we see here? Well, a couple of these themes like Star Wars, Town, or Ninjago are what I would \n",
    "# think of when I think of LEGO. However, it looks like LEGO also produces a huge number of ... books and key chains?!?! \n",
    "# I guess I'm showing my age here, but it's interesting that the LEGO company seems to produce so much more \n",
    "# these days than just plastic bricks. The 'Gear' category itself is huge and includes everything from bags \n",
    "# to pencil cases apparently. Has LEGO strayed from its core business or is it successfully diversifying? \n",
    "# That we can't answer from our dataset. I'll leave that one up to a business school case study to decide."
   ]
  },
  {
   "cell_type": "code",
   "execution_count": null,
   "id": "46699348",
   "metadata": {},
   "outputs": [],
   "source": []
  }
 ],
 "metadata": {
  "kernelspec": {
   "display_name": "Python 3",
   "language": "python",
   "name": "python3"
  },
  "language_info": {
   "codemirror_mode": {
    "name": "ipython",
    "version": 3
   },
   "file_extension": ".py",
   "mimetype": "text/x-python",
   "name": "python",
   "nbconvert_exporter": "python",
   "pygments_lexer": "ipython3",
   "version": "3.8.8"
  }
 },
 "nbformat": 4,
 "nbformat_minor": 5
}
